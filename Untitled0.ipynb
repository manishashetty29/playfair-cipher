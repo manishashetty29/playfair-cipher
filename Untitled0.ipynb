{
  "nbformat": 4,
  "nbformat_minor": 0,
  "metadata": {
    "colab": {
      "provenance": [],
      "mount_file_id": "1ekTGPfmmFYiDlLoOR1jlcltfNKAfIY14",
      "authorship_tag": "ABX9TyOuSCOY8V3cAA/c0dYASr86",
      "include_colab_link": true
    },
    "kernelspec": {
      "name": "python3",
      "display_name": "Python 3"
    },
    "language_info": {
      "name": "python"
    }
  },
  "cells": [
    {
      "cell_type": "markdown",
      "metadata": {
        "id": "view-in-github",
        "colab_type": "text"
      },
      "source": [
        "<a href=\"https://colab.research.google.com/github/manishashetty29/playfair-cipher/blob/main/Untitled0.ipynb\" target=\"_parent\"><img src=\"https://colab.research.google.com/assets/colab-badge.svg\" alt=\"Open In Colab\"/></a>"
      ]
    },
    {
      "cell_type": "code",
      "execution_count": null,
      "metadata": {
        "id": "YWzsPCj_1dec"
      },
      "outputs": [],
      "source": []
    },
    {
      "cell_type": "code",
      "source": [
        "def create_matrix(key):\n",
        "    alphabet=\"ABCDEFGHIKLMNOPQRSTUVWXYZ\"\n",
        "    matrix=[]\n",
        "    key=\"\".join(dict.fromkeys(key.upper().replace(\"J\",\"I\")+alphabet))\n",
        "    for i in range(0,25,5):\n",
        "        matrix.append(list(key[i:i+5]))\n",
        "    return matrix\n",
        "def find_position(matrix,char):\n",
        "    for row in range (5):\n",
        "        for col in range (5):\n",
        "            if matrix[row][col]==char:\n",
        "                return row,col\n",
        "def encrypt(ptext,key):\n",
        "    matrix=create_matrix(key)\n",
        "    ptext=ptext.upper().replace(\"J\",\"I\").replace(\" \",\"\")\n",
        "    #Check for odd length text\n",
        "    if len(ptext) %2 !=0:\n",
        "        ptext+=\"X\"\n",
        "\n",
        "    ciphertext=\"\"\n",
        "    for i in range(0,len(ptext),2):\n",
        "        a,b=ptext[i],ptext[i+1]\n",
        "        row1,col1=find_position(matrix,a)\n",
        "        row2,col2=find_position(matrix,b)\n",
        "\n",
        "        if row1==row2:\n",
        "            ciphertext+=matrix[row1][(col1+1)%5]+matrix[row2][(col2+1)%5]\n",
        "        elif col1==col2:\n",
        "            ciphertext+=matrix[(row1+1)%5][col1]+matrix[(row2+1)%5][col2]\n",
        "        else:\n",
        "            ciphertext+=matrix[row1][col2]+matrix[row2][col1]\n",
        "    return ciphertext\n",
        "def decrypt(text,key):\n",
        "    matrix=create_matrix(key)\n",
        "    text=text.upper().replace(\"J\",\"I\").replace(\" \",\"\")\n",
        "\n",
        "\n",
        "    plaintext=\"\"\n",
        "    for i in range(0,len(text),2):\n",
        "        a,b=text[i],text[i+1]\n",
        "        row1,col1=find_position(matrix,a)\n",
        "        row2,col2=find_position(matrix,b)\n",
        "\n",
        "        if row1==row2:\n",
        "            plaintext+=matrix[row1][(col1-1)%5]+matrix[row2][(col2-1)%5]\n",
        "        elif col1==col2:\n",
        "            plaintext+=matrix[(row1-1)%5][col1]+matrix[(row2-1)%5][col2]\n",
        "        else:\n",
        "            plaintext+=matrix[row1][col2]+matrix[row2][col1]\n",
        "    return plaintext\n",
        "# ptext=\"instruments\"\n",
        "# key=\"monarchy\"\n",
        "ptext=input(\"Enter the plain text:\")\n",
        "key=input(\"Enter the key:\")\n",
        "print(\"Encripted message:\",encrypt(ptext,key))\n",
        "text=input(\"Enter the cipher text:\")\n",
        "key=input(\"Enter the key:\")\n",
        "print(\"Encripted message:\",decrypt(text,key))\n"
      ],
      "metadata": {
        "colab": {
          "base_uri": "https://localhost:8080/"
        },
        "id": "5l5bgxJW2Kij",
        "outputId": "c7259964-ec6a-4b80-ccce-1ab988324bec"
      },
      "execution_count": 2,
      "outputs": [
        {
          "output_type": "stream",
          "name": "stdout",
          "text": [
            "Enter the plain text:instruments\n",
            "Enter the key:monarchy\n",
            "Encripted message: GATLMZCLRQXA\n",
            "Enter the cipher text:gatlmzclrqxa\n",
            "Enter the key:monarchy\n",
            "Encripted message: INSTRUMENTSX\n"
          ]
        }
      ]
    },
    {
      "cell_type": "code",
      "source": [],
      "metadata": {
        "id": "nA5iGN0V2WNe"
      },
      "execution_count": 2,
      "outputs": []
    }
  ]
}